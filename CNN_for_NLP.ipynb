{
  "nbformat": 4,
  "nbformat_minor": 0,
  "metadata": {
    "colab": {
      "name": "CNN_for_NLP.ipynb",
      "provenance": [],
      "authorship_tag": "ABX9TyNnNWJCp5keWkbLlss2cZ8M",
      "include_colab_link": true
    },
    "kernelspec": {
      "name": "python3",
      "display_name": "Python 3"
    },
    "language_info": {
      "name": "python"
    }
  },
  "cells": [
    {
      "cell_type": "markdown",
      "metadata": {
        "id": "view-in-github",
        "colab_type": "text"
      },
      "source": [
        "<a href=\"https://colab.research.google.com/github/Jaise152/Modern-Natural-Language-Processing-in-Python/blob/main/CNN_for_NLP.ipynb\" target=\"_parent\"><img src=\"https://colab.research.google.com/assets/colab-badge.svg\" alt=\"Open In Colab\"/></a>"
      ]
    },
    {
      "cell_type": "code",
      "source": [
        "pip install beautifulsoup4"
      ],
      "metadata": {
        "colab": {
          "base_uri": "https://localhost:8080/"
        },
        "id": "HCvmeY6HpYW7",
        "outputId": "a4365380-0e15-4d07-ce96-fad862b326cf"
      },
      "execution_count": 1,
      "outputs": [
        {
          "output_type": "stream",
          "name": "stdout",
          "text": [
            "Requirement already satisfied: beautifulsoup4 in /usr/local/lib/python3.7/dist-packages (4.6.3)\n"
          ]
        }
      ]
    },
    {
      "cell_type": "code",
      "execution_count": 1,
      "metadata": {
        "id": "9ZjD1oC3bs-t"
      },
      "outputs": [],
      "source": [
        "import pandas as pd\n",
        "import numpy as np\n",
        "import re\n",
        "import math\n",
        "from bs4 import BeautifulSoup\n",
        "from google.colab import drive "
      ]
    },
    {
      "cell_type": "code",
      "source": [
        "try:\n",
        "  %tensorflow_version 2.x\n",
        "except Exception:\n",
        "  pass\n",
        "import tensorflow as tf\n",
        "from tensorflow.keras import layers\n",
        "import tensorflow_datasets as tfds"
      ],
      "metadata": {
        "id": "xgcYsVi2lKDh"
      },
      "execution_count": 2,
      "outputs": []
    },
    {
      "cell_type": "code",
      "source": [
        "drive.mount(\"/content/drive/\")"
      ],
      "metadata": {
        "colab": {
          "base_uri": "https://localhost:8080/"
        },
        "id": "F_HIaal6p9EW",
        "outputId": "d55ef836-0dd0-4649-eea4-8e795b311e52"
      },
      "execution_count": 3,
      "outputs": [
        {
          "output_type": "stream",
          "name": "stdout",
          "text": [
            "Mounted at /content/drive/\n"
          ]
        }
      ]
    },
    {
      "cell_type": "code",
      "source": [
        "cols = ['sentiment', 'id', 'date', 'query', 'user','text']"
      ],
      "metadata": {
        "id": "KlLHyGDexFam"
      },
      "execution_count": 4,
      "outputs": []
    },
    {
      "cell_type": "code",
      "source": [
        "test_data = pd.read_csv(\n",
        "   \"/content/drive/MyDrive/Colab Notebooks/Modern-Natural-Language-Processing-in-Python/test.csv\",\n",
        "    header = None,\n",
        "    names = cols,\n",
        "    engine = 'python',\n",
        "    encoding = 'latin1'\n",
        ")"
      ],
      "metadata": {
        "id": "7TRRIyFRyqmN"
      },
      "execution_count": 5,
      "outputs": []
    },
    {
      "cell_type": "code",
      "source": [
        "train_data = pd.read_csv(\n",
        "   \"/content/drive/MyDrive/Colab Notebooks/Modern-Natural-Language-Processing-in-Python/train.csv\",\n",
        "    header = None,\n",
        "    names = cols,\n",
        "    engine = 'python',\n",
        "    encoding = 'latin1'\n",
        ")"
      ],
      "metadata": {
        "id": "CDajc_uOy7qQ"
      },
      "execution_count": 6,
      "outputs": []
    },
    {
      "cell_type": "code",
      "source": [
        "test_data.tail(3)"
      ],
      "metadata": {
        "colab": {
          "base_uri": "https://localhost:8080/",
          "height": 143
        },
        "id": "CsjG8wohzJIj",
        "outputId": "7abc720f-ff9c-45f8-ac3d-45a312b9b18d"
      },
      "execution_count": 7,
      "outputs": [
        {
          "output_type": "execute_result",
          "data": {
            "text/html": [
              "\n",
              "  <div id=\"df-ea12fcd2-4022-462f-82da-e2c5f386d11d\">\n",
              "    <div class=\"colab-df-container\">\n",
              "      <div>\n",
              "<style scoped>\n",
              "    .dataframe tbody tr th:only-of-type {\n",
              "        vertical-align: middle;\n",
              "    }\n",
              "\n",
              "    .dataframe tbody tr th {\n",
              "        vertical-align: top;\n",
              "    }\n",
              "\n",
              "    .dataframe thead th {\n",
              "        text-align: right;\n",
              "    }\n",
              "</style>\n",
              "<table border=\"1\" class=\"dataframe\">\n",
              "  <thead>\n",
              "    <tr style=\"text-align: right;\">\n",
              "      <th></th>\n",
              "      <th>sentiment</th>\n",
              "      <th>id</th>\n",
              "      <th>date</th>\n",
              "      <th>query</th>\n",
              "      <th>user</th>\n",
              "      <th>text</th>\n",
              "    </tr>\n",
              "  </thead>\n",
              "  <tbody>\n",
              "    <tr>\n",
              "      <th>495</th>\n",
              "      <td>4</td>\n",
              "      <td>14074</td>\n",
              "      <td>Sun Jun 14 04:36:34 UTC 2009</td>\n",
              "      <td>latex</td>\n",
              "      <td>iamtheonlyjosie</td>\n",
              "      <td>Ahhh... back in a *real* text editing environm...</td>\n",
              "    </tr>\n",
              "    <tr>\n",
              "      <th>496</th>\n",
              "      <td>0</td>\n",
              "      <td>14075</td>\n",
              "      <td>Sun Jun 14 21:36:07 UTC 2009</td>\n",
              "      <td>iran</td>\n",
              "      <td>plutopup7</td>\n",
              "      <td>Trouble in Iran, I see. Hmm. Iran. Iran so far...</td>\n",
              "    </tr>\n",
              "    <tr>\n",
              "      <th>497</th>\n",
              "      <td>0</td>\n",
              "      <td>14076</td>\n",
              "      <td>Sun Jun 14 21:36:17 UTC 2009</td>\n",
              "      <td>iran</td>\n",
              "      <td>captain_pete</td>\n",
              "      <td>Reading the tweets coming out of Iran... The w...</td>\n",
              "    </tr>\n",
              "  </tbody>\n",
              "</table>\n",
              "</div>\n",
              "      <button class=\"colab-df-convert\" onclick=\"convertToInteractive('df-ea12fcd2-4022-462f-82da-e2c5f386d11d')\"\n",
              "              title=\"Convert this dataframe to an interactive table.\"\n",
              "              style=\"display:none;\">\n",
              "        \n",
              "  <svg xmlns=\"http://www.w3.org/2000/svg\" height=\"24px\"viewBox=\"0 0 24 24\"\n",
              "       width=\"24px\">\n",
              "    <path d=\"M0 0h24v24H0V0z\" fill=\"none\"/>\n",
              "    <path d=\"M18.56 5.44l.94 2.06.94-2.06 2.06-.94-2.06-.94-.94-2.06-.94 2.06-2.06.94zm-11 1L8.5 8.5l.94-2.06 2.06-.94-2.06-.94L8.5 2.5l-.94 2.06-2.06.94zm10 10l.94 2.06.94-2.06 2.06-.94-2.06-.94-.94-2.06-.94 2.06-2.06.94z\"/><path d=\"M17.41 7.96l-1.37-1.37c-.4-.4-.92-.59-1.43-.59-.52 0-1.04.2-1.43.59L10.3 9.45l-7.72 7.72c-.78.78-.78 2.05 0 2.83L4 21.41c.39.39.9.59 1.41.59.51 0 1.02-.2 1.41-.59l7.78-7.78 2.81-2.81c.8-.78.8-2.07 0-2.86zM5.41 20L4 18.59l7.72-7.72 1.47 1.35L5.41 20z\"/>\n",
              "  </svg>\n",
              "      </button>\n",
              "      \n",
              "  <style>\n",
              "    .colab-df-container {\n",
              "      display:flex;\n",
              "      flex-wrap:wrap;\n",
              "      gap: 12px;\n",
              "    }\n",
              "\n",
              "    .colab-df-convert {\n",
              "      background-color: #E8F0FE;\n",
              "      border: none;\n",
              "      border-radius: 50%;\n",
              "      cursor: pointer;\n",
              "      display: none;\n",
              "      fill: #1967D2;\n",
              "      height: 32px;\n",
              "      padding: 0 0 0 0;\n",
              "      width: 32px;\n",
              "    }\n",
              "\n",
              "    .colab-df-convert:hover {\n",
              "      background-color: #E2EBFA;\n",
              "      box-shadow: 0px 1px 2px rgba(60, 64, 67, 0.3), 0px 1px 3px 1px rgba(60, 64, 67, 0.15);\n",
              "      fill: #174EA6;\n",
              "    }\n",
              "\n",
              "    [theme=dark] .colab-df-convert {\n",
              "      background-color: #3B4455;\n",
              "      fill: #D2E3FC;\n",
              "    }\n",
              "\n",
              "    [theme=dark] .colab-df-convert:hover {\n",
              "      background-color: #434B5C;\n",
              "      box-shadow: 0px 1px 3px 1px rgba(0, 0, 0, 0.15);\n",
              "      filter: drop-shadow(0px 1px 2px rgba(0, 0, 0, 0.3));\n",
              "      fill: #FFFFFF;\n",
              "    }\n",
              "  </style>\n",
              "\n",
              "      <script>\n",
              "        const buttonEl =\n",
              "          document.querySelector('#df-ea12fcd2-4022-462f-82da-e2c5f386d11d button.colab-df-convert');\n",
              "        buttonEl.style.display =\n",
              "          google.colab.kernel.accessAllowed ? 'block' : 'none';\n",
              "\n",
              "        async function convertToInteractive(key) {\n",
              "          const element = document.querySelector('#df-ea12fcd2-4022-462f-82da-e2c5f386d11d');\n",
              "          const dataTable =\n",
              "            await google.colab.kernel.invokeFunction('convertToInteractive',\n",
              "                                                     [key], {});\n",
              "          if (!dataTable) return;\n",
              "\n",
              "          const docLinkHtml = 'Like what you see? Visit the ' +\n",
              "            '<a target=\"_blank\" href=https://colab.research.google.com/notebooks/data_table.ipynb>data table notebook</a>'\n",
              "            + ' to learn more about interactive tables.';\n",
              "          element.innerHTML = '';\n",
              "          dataTable['output_type'] = 'display_data';\n",
              "          await google.colab.output.renderOutput(dataTable, element);\n",
              "          const docLink = document.createElement('div');\n",
              "          docLink.innerHTML = docLinkHtml;\n",
              "          element.appendChild(docLink);\n",
              "        }\n",
              "      </script>\n",
              "    </div>\n",
              "  </div>\n",
              "  "
            ],
            "text/plain": [
              "     sentiment  ...                                               text\n",
              "495          4  ...  Ahhh... back in a *real* text editing environm...\n",
              "496          0  ...  Trouble in Iran, I see. Hmm. Iran. Iran so far...\n",
              "497          0  ...  Reading the tweets coming out of Iran... The w...\n",
              "\n",
              "[3 rows x 6 columns]"
            ]
          },
          "metadata": {},
          "execution_count": 7
        }
      ]
    },
    {
      "cell_type": "code",
      "source": [
        "test_data.drop(['id','date','query','user'],\n",
        "          axis = 1,\n",
        "          inplace = True)"
      ],
      "metadata": {
        "id": "EeoOMN_ZzQRK"
      },
      "execution_count": 8,
      "outputs": []
    },
    {
      "cell_type": "code",
      "source": [
        "train_data.drop(['id','date','query','user'],\n",
        "          axis = 1,\n",
        "          inplace = True)"
      ],
      "metadata": {
        "id": "sO7UY1n-68vx"
      },
      "execution_count": 9,
      "outputs": []
    },
    {
      "cell_type": "code",
      "source": [
        "len(train_data)"
      ],
      "metadata": {
        "id": "hBSk7PkvAHul",
        "outputId": "b5f5814f-5119-468f-a78c-b6c2dd87ef45",
        "colab": {
          "base_uri": "https://localhost:8080/"
        }
      },
      "execution_count": 10,
      "outputs": [
        {
          "output_type": "execute_result",
          "data": {
            "text/plain": [
              "1600000"
            ]
          },
          "metadata": {},
          "execution_count": 10
        }
      ]
    },
    {
      "cell_type": "code",
      "source": [
        "BeautifulSoup(test_data['text'][0], 'lxml',).get_text()"
      ],
      "metadata": {
        "colab": {
          "base_uri": "https://localhost:8080/",
          "height": 35
        },
        "id": "_JxI_5mLB1Uq",
        "outputId": "2fbd8529-b5ed-428f-fdab-0ccba03ffcb2"
      },
      "execution_count": 11,
      "outputs": [
        {
          "output_type": "execute_result",
          "data": {
            "application/vnd.google.colaboratory.intrinsic+json": {
              "type": "string"
            },
            "text/plain": [
              "'@stellargirl I loooooooovvvvvveee my Kindle2. Not that the DX is cool, but the 2 is fantastic in its own right.'"
            ]
          },
          "metadata": {},
          "execution_count": 11
        }
      ]
    },
    {
      "cell_type": "code",
      "source": [
        "re.sub(r\"@[A-Z a-z 0-9]+\", ' ', test_data['text'][0])"
      ],
      "metadata": {
        "colab": {
          "base_uri": "https://localhost:8080/",
          "height": 35
        },
        "id": "QcompIczCV3z",
        "outputId": "30779a6a-d1f5-437c-f64e-610e185fb530"
      },
      "execution_count": 12,
      "outputs": [
        {
          "output_type": "execute_result",
          "data": {
            "application/vnd.google.colaboratory.intrinsic+json": {
              "type": "string"
            },
            "text/plain": [
              "' . Not that the DX is cool, but the 2 is fantastic in its own right.'"
            ]
          },
          "metadata": {},
          "execution_count": 12
        }
      ]
    },
    {
      "cell_type": "code",
      "source": [
        "re.sub(r\"https?://[A-Za-z0-9./]+\", ' ', test_data['text'][0])"
      ],
      "metadata": {
        "colab": {
          "base_uri": "https://localhost:8080/",
          "height": 35
        },
        "id": "HX4IgyAEDAjy",
        "outputId": "737167b0-48e2-4e51-a116-db89890542df"
      },
      "execution_count": 13,
      "outputs": [
        {
          "output_type": "execute_result",
          "data": {
            "application/vnd.google.colaboratory.intrinsic+json": {
              "type": "string"
            },
            "text/plain": [
              "'@stellargirl I loooooooovvvvvveee my Kindle2. Not that the DX is cool, but the 2 is fantastic in its own right.'"
            ]
          },
          "metadata": {},
          "execution_count": 13
        }
      ]
    },
    {
      "cell_type": "code",
      "source": [
        "re.sub(r\"[^A-Za-z0-9.!?]\", ' ', test_data['text'][0])"
      ],
      "metadata": {
        "id": "y6ln-W_lDacN",
        "outputId": "e81ed600-e780-412e-e700-e8e7207330bb",
        "colab": {
          "base_uri": "https://localhost:8080/",
          "height": 35
        }
      },
      "execution_count": 14,
      "outputs": [
        {
          "output_type": "execute_result",
          "data": {
            "application/vnd.google.colaboratory.intrinsic+json": {
              "type": "string"
            },
            "text/plain": [
              "' stellargirl I loooooooovvvvvveee my Kindle2. Not that the DX is cool  but the 2 is fantastic in its own right.'"
            ]
          },
          "metadata": {},
          "execution_count": 14
        }
      ]
    },
    {
      "cell_type": "code",
      "source": [
        "def clean_tweet(tweet):\n",
        "  tweet = re.sub(r\"@[A-Z a-z 0-9]+\", ' ', tweet) #Removing mentiones\n",
        "  tweet = re.sub(r\"https?://[A-Za-z0-9./]+\", ' ', tweet) #Removing urls\n",
        "  tweet = re.sub(r\"[^A-Za-z0-9.!?]+\", ' ', tweet) #Removing all unwanted characters\n",
        "  tweet = re.sub(r\" +\", ' ', tweet)\n",
        "  return tweet"
      ],
      "metadata": {
        "id": "FXjFh6Br7JKM"
      },
      "execution_count": 15,
      "outputs": []
    },
    {
      "cell_type": "code",
      "source": [
        "#clean_tweet_test = [clean_tweet(tweet) for tweet in train_data.text ]"
      ],
      "metadata": {
        "id": "uB11MzysA2WA"
      },
      "execution_count": 16,
      "outputs": []
    },
    {
      "cell_type": "code",
      "source": [
        "clean_tweet_train = [clean_tweet(tweet) for tweet in train_data.text ]"
      ],
      "metadata": {
        "id": "w26tCZ7xF6qP"
      },
      "execution_count": 17,
      "outputs": []
    },
    {
      "cell_type": "code",
      "source": [
        "len(clean_tweet_train)"
      ],
      "metadata": {
        "id": "Qk7Ff5cGArJB",
        "outputId": "b0f2a87f-602c-46a5-c7d8-36859491ae94",
        "colab": {
          "base_uri": "https://localhost:8080/"
        }
      },
      "execution_count": 18,
      "outputs": [
        {
          "output_type": "execute_result",
          "data": {
            "text/plain": [
              "1600000"
            ]
          },
          "metadata": {},
          "execution_count": 18
        }
      ]
    },
    {
      "cell_type": "code",
      "source": [
        "train_data['sentiment'].unique()"
      ],
      "metadata": {
        "id": "Xt3-HDj2F-Px",
        "outputId": "098ff669-b42f-4cc0-8ccf-c8cb878acac0",
        "colab": {
          "base_uri": "https://localhost:8080/"
        }
      },
      "execution_count": 19,
      "outputs": [
        {
          "output_type": "execute_result",
          "data": {
            "text/plain": [
              "array([0, 4])"
            ]
          },
          "metadata": {},
          "execution_count": 19
        }
      ]
    },
    {
      "cell_type": "code",
      "source": [
        "train_data['sentiment'].unique()"
      ],
      "metadata": {
        "id": "T4KvdrI0GUuG",
        "outputId": "e126b048-3e9b-446d-9847-75c20a8e9211",
        "colab": {
          "base_uri": "https://localhost:8080/"
        }
      },
      "execution_count": 20,
      "outputs": [
        {
          "output_type": "execute_result",
          "data": {
            "text/plain": [
              "array([0, 4])"
            ]
          },
          "metadata": {},
          "execution_count": 20
        }
      ]
    },
    {
      "cell_type": "code",
      "source": [
        "data_labels = train_data.sentiment.values"
      ],
      "metadata": {
        "id": "uHO7KFkfGct2"
      },
      "execution_count": 21,
      "outputs": []
    },
    {
      "cell_type": "code",
      "source": [
        "data_labels"
      ],
      "metadata": {
        "id": "xehKoK8GGzWu",
        "outputId": "a90cd73a-4b54-4276-c964-f4deaf784877",
        "colab": {
          "base_uri": "https://localhost:8080/"
        }
      },
      "execution_count": 22,
      "outputs": [
        {
          "output_type": "execute_result",
          "data": {
            "text/plain": [
              "array([0, 0, 0, ..., 4, 4, 4])"
            ]
          },
          "metadata": {},
          "execution_count": 22
        }
      ]
    },
    {
      "cell_type": "code",
      "source": [
        "data_labels[data_labels==4] =1"
      ],
      "metadata": {
        "id": "LT3nRq7NG2aJ"
      },
      "execution_count": 23,
      "outputs": []
    },
    {
      "cell_type": "code",
      "source": [
        "set(data_labels)"
      ],
      "metadata": {
        "id": "AoDV-Kd4G6XJ",
        "outputId": "8dd2e29a-bb60-4a7c-ec6a-828e24f5dc23",
        "colab": {
          "base_uri": "https://localhost:8080/"
        }
      },
      "execution_count": 24,
      "outputs": [
        {
          "output_type": "execute_result",
          "data": {
            "text/plain": [
              "{0, 1}"
            ]
          },
          "metadata": {},
          "execution_count": 24
        }
      ]
    },
    {
      "cell_type": "markdown",
      "source": [
        "Tokenization"
      ],
      "metadata": {
        "id": "6ndg5TLkv_Xm"
      }
    },
    {
      "cell_type": "code",
      "source": [
        "#\n",
        "tokenizer = tfds.deprecated.text.SubwordTextEncoder.build_from_corpus(\n",
        "    clean_tweet_train, target_vocab_size = 2**16\n",
        ")"
      ],
      "metadata": {
        "id": "Ga8c2DFxG_WP"
      },
      "execution_count": 25,
      "outputs": []
    },
    {
      "cell_type": "code",
      "source": [
        "clean_tweet_train_input = [tokenizer.encode(sentence) for sentence in clean_tweet_train]"
      ],
      "metadata": {
        "id": "puhWSm-AxKD7"
      },
      "execution_count": 26,
      "outputs": []
    },
    {
      "cell_type": "code",
      "source": [
        "len(clean_tweet_train_input)"
      ],
      "metadata": {
        "id": "hxLuF4BRAtli",
        "outputId": "fdcc7827-7bbf-4891-ec48-08e0b7448234",
        "colab": {
          "base_uri": "https://localhost:8080/"
        }
      },
      "execution_count": 27,
      "outputs": [
        {
          "output_type": "execute_result",
          "data": {
            "text/plain": [
              "1600000"
            ]
          },
          "metadata": {},
          "execution_count": 27
        }
      ]
    },
    {
      "cell_type": "markdown",
      "source": [
        "Padding"
      ],
      "metadata": {
        "id": "hajmP6RbyvGt"
      }
    },
    {
      "cell_type": "code",
      "source": [
        "Max_len = max([len(sentence) for sentence in clean_tweet_train_input ])"
      ],
      "metadata": {
        "id": "G45Mf_n2ypVA"
      },
      "execution_count": 28,
      "outputs": []
    },
    {
      "cell_type": "code",
      "source": [
        "clean_tweet_train_input = tf.keras.preprocessing.sequence.pad_sequences(\n",
        "    clean_tweet_train_input,\n",
        "    maxlen = Max_len,\n",
        "    value = 0,\n",
        "    padding = 'post'\n",
        ")"
      ],
      "metadata": {
        "id": "4zbSUy8nzOqM"
      },
      "execution_count": 29,
      "outputs": []
    },
    {
      "cell_type": "code",
      "source": [
        "len(clean_tweet_train_input)"
      ],
      "metadata": {
        "id": "fbUALfZ359v5",
        "outputId": "b2f124d9-0009-4868-c894-a2ce4de8d70e",
        "colab": {
          "base_uri": "https://localhost:8080/"
        }
      },
      "execution_count": 30,
      "outputs": [
        {
          "output_type": "execute_result",
          "data": {
            "text/plain": [
              "1600000"
            ]
          },
          "metadata": {},
          "execution_count": 30
        }
      ]
    },
    {
      "cell_type": "code",
      "source": [
        "test_idx = np.random.randint(0,16000,1600)\n",
        "test_idx = np.concatenate((test_idx, test_idx+16000))"
      ],
      "metadata": {
        "id": "qBaK8rbWzvLC"
      },
      "execution_count": 31,
      "outputs": []
    },
    {
      "cell_type": "code",
      "source": [
        "test_inputs = clean_tweet_train_input[test_idx]\n",
        "test_labels = data_labels[test_idx]\n",
        "train_inputs = np.delete(clean_tweet_train_input, test_idx, axis=0)\n",
        "train_labels = np.delete(data_labels, test_idx)"
      ],
      "metadata": {
        "id": "YnDdqTZD0WTK"
      },
      "execution_count": 32,
      "outputs": []
    },
    {
      "cell_type": "markdown",
      "source": [
        "Model Building"
      ],
      "metadata": {
        "id": "ePaNJ7RmBrtb"
      }
    },
    {
      "cell_type": "code",
      "source": [
        "class DCNN(tf.keras.Model):\n",
        "\n",
        "  def __int__(self,\n",
        "              vocab_size,\n",
        "              emb_dim = 128,\n",
        "              nb_filters = 50,\n",
        "              FNN_units = 512,\n",
        "              nb_classes = 2,\n",
        "              dropout_rate = 0.1,\n",
        "              training = False,\n",
        "              name = 'dcnn'):\n",
        "    super(DCNN, self).__int__(name=name)\n",
        "\n",
        "    self.embedding = layers.Embedding(vocab_size,\n",
        "                                      emb_dim)\n",
        "    self.bigram = layers.Conv1D(filter = nb_filters,\n",
        "                               kernal_size = 2,\n",
        "                               padding = \"valid\",\n",
        "                               activation = \"relu\")\n",
        "    self.pool_1 = layers.GlobalMaxPool1D()\n",
        "\n",
        "    self.trigram = layers.Conv1D(filter = nb_filters,\n",
        "                               kernal_size = 3,\n",
        "                               padding = \"valid\",\n",
        "                               activation = \"relu\")\n",
        "    self.pool_2 = layers.GlobalMaxPool1D()\n",
        "\n",
        "    self.fourgram = layers.Conv1D(filter = nb_filters,\n",
        "                               kernal_size = 4,\n",
        "                               padding = \"valid\",\n",
        "                               activation = \"relu\")\n",
        "    self.pool_3 = layers.GlobalMaxPool1D()\n",
        "\n",
        "    self.dense_1 = layers.Dense(units = FNN_units, activation = \"relu\")\n",
        "    self.dropout = layers.Dropout(rate = dropout_rate)\n",
        "\n",
        "    if nb_classes == 2:\n",
        "      self.last_dense = layers.Desne(units =1, \n",
        "                                     activation = 'sigmoid')\n",
        "    else:\n",
        "      self.last_dense = layers.Dense(units = nb_classes,\n",
        "                                    activation = \"relu\")\n",
        "  def call(self, inputs, training):\n",
        "    x = self.embedding(inputs)\n",
        "    x_1 = self.bigram(x)\n",
        "    x_1 = self.pool_1(x_1)\n",
        "    x_2 = self.trigram(x)\n",
        "    x_2 = self.pool_2(x_2)\n",
        "    x_3 = self.fourgram(x)\n",
        "    x_3 = self.pool_3(x_3)\n",
        "\n",
        "    merged = tf.concat([x_1, x_2, x_3], axis =1 )\n",
        "\n"
      ],
      "metadata": {
        "id": "rao1zqCP-fVx"
      },
      "execution_count": 44,
      "outputs": []
    },
    {
      "cell_type": "code",
      "source": [
        ""
      ],
      "metadata": {
        "id": "1NAqXUVmCZ4T"
      },
      "execution_count": null,
      "outputs": []
    }
  ]
}