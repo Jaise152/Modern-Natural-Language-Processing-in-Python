{
  "nbformat": 4,
  "nbformat_minor": 0,
  "metadata": {
    "colab": {
      "name": "CNN_for_NLP.ipynb",
      "provenance": [],
      "authorship_tag": "ABX9TyMlIgPISMLjbjENsKw2QY2w",
      "include_colab_link": true
    },
    "kernelspec": {
      "name": "python3",
      "display_name": "Python 3"
    },
    "language_info": {
      "name": "python"
    }
  },
  "cells": [
    {
      "cell_type": "markdown",
      "metadata": {
        "id": "view-in-github",
        "colab_type": "text"
      },
      "source": [
        "<a href=\"https://colab.research.google.com/github/Jaise152/Modern-Natural-Language-Processing-in-Python/blob/main/CNN_for_NLP.ipynb\" target=\"_parent\"><img src=\"https://colab.research.google.com/assets/colab-badge.svg\" alt=\"Open In Colab\"/></a>"
      ]
    },
    {
      "cell_type": "code",
      "execution_count": null,
      "metadata": {
        "id": "9ZjD1oC3bs-t"
      },
      "outputs": [],
      "source": [
        ""
      ]
    }
  ]
}